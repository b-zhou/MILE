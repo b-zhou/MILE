{
 "cells": [
  {
   "cell_type": "code",
   "execution_count": null,
   "id": "b8b0c8b3",
   "metadata": {},
   "outputs": [],
   "source": [
    "%cd ..\n",
    "from pathlib import Path\n",
    "import subprocess\n",
    "import functools\n",
    "from src.config.core import Config\n",
    "import numpy as np"
   ]
  },
  {
   "cell_type": "markdown",
   "id": "d15a5339",
   "metadata": {},
   "source": [
    "### Config template"
   ]
  },
  {
   "cell_type": "code",
   "execution_count": null,
   "id": "915b8400",
   "metadata": {},
   "outputs": [],
   "source": [
    "CONFIG_DICT = {\n",
    "    'saving_dir': 'results/',\n",
    "    'experiment_name': 'bike',\n",
    "    'data': {\n",
    "        'path': 'data/bikesharing.data',\n",
    "        'source': 'local',\n",
    "        'data_type': 'tabular',\n",
    "        'task': 'regr',\n",
    "        'target_column': None,\n",
    "        'target_len': 1,\n",
    "        'features': None,\n",
    "        'datapoint_limit': None,\n",
    "        'normalize': True,\n",
    "        'train_split': 0.8,\n",
    "        'valid_split': 0.0,\n",
    "        'test_split': 0.2,\n",
    "    },\n",
    "    'model': {\n",
    "        'model': 'FCN',\n",
    "        'hidden_structure': [16, 16, 16, 2],\n",
    "        'activation': 'relu',\n",
    "        'use_bias': True,\n",
    "    },\n",
    "    'training': {\n",
    "        'warmstart': { # meaningless placeholder\n",
    "            'include': False,\n",
    "            'optimizer_config': {'name': \"sgd\", 'parameters': {}}\n",
    "        },\n",
    "        'sampler': {\n",
    "            'name': 'sgld',\n",
    "            'warmup_steps': 0,\n",
    "            'n_chains': 4,\n",
    "            'n_samples': 24000,  # total steps\n",
    "            'batch_size': 512,\n",
    "            'step_size_init': 2.0e-6,  # step_size_explore\n",
    "            'n_thinning': 1,\n",
    "            'keep_warmup': False,\n",
    "            'optimizer_name': 'sgd',\n",
    "            'prior_config': {\n",
    "                'name': 'StandardNormal'\n",
    "            },\n",
    "            'scheduler_config': {\n",
    "                'name': 'cosine',\n",
    "                'n_samples_per_cycle': 200,\n",
    "                'parameters': {\n",
    "                    'n_cycles': 4,\n",
    "                }\n",
    "            }\n",
    "        }\n",
    "    },\n",
    "    'rng': 1446,\n",
    "    'logging': False,\n",
    "}"
   ]
  },
  {
   "cell_type": "code",
   "execution_count": null,
   "id": "c1615637",
   "metadata": {},
   "outputs": [],
   "source": [
    "def get_config(\n",
    "        exp_name: str = 'bike',\n",
    "        n_chains: int = 4,\n",
    "        n_cycles: int = 4,\n",
    "        n_steps_per_cycle: int = 2000,\n",
    "        n_samples_per_cycle: int = 200,\n",
    "        n_thinning: int = 1,\n",
    "        optimizer_name: str = 'adam',\n",
    "        scheduler_name: str = 'cosine',\n",
    "        step_size_init: float = 2.0e-6,\n",
    "        step_size_sampling: float | None = None,\n",
    "        seed: int = 0\n",
    "    ):\n",
    "    n_samples = n_cycles * n_steps_per_cycle\n",
    "\n",
    "    new_config_dict = CONFIG_DICT.copy()\n",
    "    new_config_dict['experiment_name'] = exp_name\n",
    "    new_config_dict['training']['sampler'] = {\n",
    "        'name': 'sgld',\n",
    "        'warmup_steps': 0,\n",
    "        'keep_warmup': False,\n",
    "        'n_chains': n_chains,\n",
    "        'n_samples': n_samples,  # total steps\n",
    "        'batch_size': 512,\n",
    "        'step_size_init': step_size_init,  # step_size_explore\n",
    "        'n_thinning': n_thinning,\n",
    "        'optimizer_name': optimizer_name,\n",
    "        'prior_config': {\n",
    "            'name': 'StandardNormal'\n",
    "        },\n",
    "        'scheduler_config': {\n",
    "            'name': scheduler_name,\n",
    "            'n_samples_per_cycle': n_samples_per_cycle,\n",
    "            'parameters': {\n",
    "                'n_cycles': n_cycles,\n",
    "                'step_size_sampling': step_size_sampling\n",
    "            }\n",
    "        }\n",
    "    }\n",
    "    new_config_dict['rng'] = seed\n",
    "    new_config_dict['saving_dir'] = f'results/'\n",
    "    config_path = Path('experiments/csgld') / f'{exp_name}.yaml'\n",
    "    # if config_path.exists():\n",
    "    #     warnings.warn(f\"Config file {config_path} already exists. Overwriting it.\")\n",
    "    if not config_path.parent.exists():\n",
    "        config_path.parent.mkdir(parents=True)\n",
    "    Config.from_dict(new_config_dict).to_yaml(config_path)\n",
    "\n",
    "    return config_path"
   ]
  },
  {
   "cell_type": "markdown",
   "id": "8901222c",
   "metadata": {},
   "source": [
    "### Chains/Cycles"
   ]
  },
  {
   "cell_type": "code",
   "execution_count": null,
   "id": "0e1da2c6",
   "metadata": {},
   "outputs": [],
   "source": [
    "chains_cycles = [2, 4, 6, 8, 10, 12]\n",
    "seeds = [0, 42, 221, 476, 1453, 1644, 1840, 1973, 2025, 2100]"
   ]
  },
  {
   "cell_type": "markdown",
   "id": "0b5cdb79",
   "metadata": {},
   "source": [
    "### Constant Schedule"
   ]
  },
  {
   "cell_type": "code",
   "execution_count": null,
   "id": "05c754be",
   "metadata": {},
   "outputs": [],
   "source": [
    "get_config_constant = functools.partial(\n",
    "    get_config,\n",
    "    n_steps_per_cycle=5500,\n",
    "    n_samples_per_cycle=500,\n",
    "    n_thinning=10,\n",
    "    optimizer_name='adam',\n",
    "    scheduler_name='constant',\n",
    "    step_size_init=0.01,\n",
    "    step_size_sampling=1.0e-8,\n",
    ")"
   ]
  },
  {
   "cell_type": "code",
   "execution_count": null,
   "id": "d3bbc69a",
   "metadata": {},
   "outputs": [],
   "source": [
    "# parallel\n",
    "config_paths_p = []\n",
    "for i, n in enumerate(chains_cycles):\n",
    "    for seed in seeds:\n",
    "        exp_name = f'constant/{n}x1_constant_5000+500_seed{seed+i}'\n",
    "        config_path = get_config_constant(\n",
    "            exp_name=exp_name,\n",
    "            n_chains=n,\n",
    "            n_cycles=1,\n",
    "            seed=seed+i\n",
    "        )\n",
    "        config_paths_p.append(config_path)\n",
    "        result_path = Path('results') / exp_name / \"eval_metrics.pkl\"\n",
    "        if result_path.exists():\n",
    "            continue\n",
    "        print(\"=\" * 50)\n",
    "        print(f'Running training for config: {config_path}')\n",
    "        subprocess.run(['python', 'train.py', '-c', str(config_path), '-d', '12'])"
   ]
  },
  {
   "cell_type": "code",
   "execution_count": null,
   "id": "40d6049b",
   "metadata": {},
   "outputs": [],
   "source": [
    "# sequential\n",
    "config_paths_c = []\n",
    "max_cycles = int(np.max(chains_cycles))\n",
    "for i, n in enumerate(chains_cycles):\n",
    "    for seed in seeds:\n",
    "        exp_name = f'constant/1x{n}_constant_5000+500_seed{seed+i}'\n",
    "        config_path = get_config_constant(\n",
    "            exp_name=exp_name,\n",
    "            n_chains=1,\n",
    "            n_cycles=n,\n",
    "            seed=seed+i\n",
    "        )\n",
    "        result_path = Path('results') / exp_name / \"eval_metrics.pkl\"\n",
    "        if result_path.exists():\n",
    "            continue\n",
    "        # print(config_path)\n",
    "        print(\"=\" * 50)\n",
    "        print(f'Running training for config: {config_path}')\n",
    "        subprocess.run(['python', 'train.py', '-c', str(config_path), '-d', '12'])"
   ]
  },
  {
   "cell_type": "markdown",
   "id": "79c88c1c",
   "metadata": {},
   "source": [
    "### Cyclical Schedule"
   ]
  },
  {
   "cell_type": "code",
   "execution_count": null,
   "id": "feafc432",
   "metadata": {},
   "outputs": [],
   "source": [
    "get_config_cyclical = functools.partial(\n",
    "    get_config,\n",
    "    n_steps_per_cycle=12000,\n",
    "    n_samples_per_cycle=500,\n",
    "    n_thinning=10,\n",
    "    optimizer_name='sgd',\n",
    "    scheduler_name='cosine',\n",
    "    step_size_init=2.0e-6\n",
    ")\n",
    "\n",
    "cosine_chains_cycles = [2, 4, 6, 8]"
   ]
  },
  {
   "cell_type": "code",
   "execution_count": null,
   "id": "a6e9e942",
   "metadata": {},
   "outputs": [],
   "source": [
    "# parallel\n",
    "for i, n in enumerate(cosine_chains_cycles):\n",
    "    for seed in [0, 42, 1973, 2025, 2100]:\n",
    "        exp_name = f'cosine/{n}x1_cosine_11500+500_seed{seed+i}'\n",
    "        config_path = get_config_cyclical(\n",
    "            exp_name=exp_name,\n",
    "            n_chains=n,\n",
    "            n_cycles=1,\n",
    "            seed=seed+i\n",
    "        )\n",
    "        result_path = Path('results') / exp_name / \"eval_metrics.pkl\"\n",
    "        if result_path.exists():\n",
    "            continue\n",
    "        print(\"=\" * 50)\n",
    "        print(f'Running training for config: {config_path}')\n",
    "        subprocess.run(['python', 'train.py', '-c', str(config_path), '-d', '12'])"
   ]
  },
  {
   "cell_type": "code",
   "execution_count": null,
   "id": "b073ada0",
   "metadata": {},
   "outputs": [],
   "source": [
    "# sequential\n",
    "for i, n in enumerate(cosine_chains_cycles):\n",
    "    for seed in [0, 42, 1973, 2025, 2100]:\n",
    "        exp_name = f'cosine/1x{n}_cosine_11500+500_seed{seed+i}'\n",
    "        config_path = get_config_cyclical(\n",
    "            exp_name=exp_name,\n",
    "            n_chains=1,\n",
    "            n_cycles=n,\n",
    "            seed=seed+i\n",
    "        )\n",
    "        result_path = Path('results') / exp_name / \"eval_metrics.pkl\"\n",
    "        if result_path.exists():\n",
    "            continue\n",
    "        print(\"=\" * 50)\n",
    "        print(f'Running training for config: {config_path}')\n",
    "        subprocess.run(['python', 'train.py', '-c', str(config_path), '-d', '12'])"
   ]
  },
  {
   "cell_type": "markdown",
   "id": "7373fb8e",
   "metadata": {},
   "source": [
    "### Cycle Length Ablation"
   ]
  },
  {
   "cell_type": "code",
   "execution_count": null,
   "id": "c65c5b1c",
   "metadata": {},
   "outputs": [],
   "source": [
    "get_config_constant_different_length = functools.partial(\n",
    "    get_config,\n",
    "    n_thinning=10,\n",
    "    optimizer_name='adam',\n",
    "    scheduler_name='constant',\n",
    "    step_size_init=0.01,\n",
    "    step_size_sampling=1.0e-8,\n",
    ")"
   ]
  },
  {
   "cell_type": "code",
   "execution_count": null,
   "id": "f2fa7baf",
   "metadata": {},
   "outputs": [],
   "source": [
    "exploration_steps = np.arange(2000, 8001, 1000)\n",
    "sampling_steps = 500\n",
    "for i, n in enumerate(exploration_steps):\n",
    "    for seed in seeds:\n",
    "        exp_name = f'exploration_budget/1x12_constant_{n}+{sampling_steps}_seed{seed+i}'\n",
    "        config_path = get_config_constant_different_length(\n",
    "            exp_name=exp_name,\n",
    "            n_chains=1,\n",
    "            n_cycles=12,\n",
    "            n_steps_per_cycle=int(n+sampling_steps),\n",
    "            n_samples_per_cycle=sampling_steps,\n",
    "            seed=seed+i\n",
    "        )\n",
    "        result_path = Path('results') / exp_name / \"eval_metrics.pkl\"\n",
    "        if result_path.exists():\n",
    "            continue\n",
    "        print(\"=\" * 50)\n",
    "        print(f'Running training for config: {config_path}')\n",
    "        subprocess.run(['python', 'train.py', '-c', str(config_path), '-d', '12'])"
   ]
  }
 ],
 "metadata": {
  "kernelspec": {
   "display_name": "venv",
   "language": "python",
   "name": "python3"
  },
  "language_info": {
   "codemirror_mode": {
    "name": "ipython",
    "version": 3
   },
   "file_extension": ".py",
   "mimetype": "text/x-python",
   "name": "python",
   "nbconvert_exporter": "python",
   "pygments_lexer": "ipython3",
   "version": "3.12.3"
  }
 },
 "nbformat": 4,
 "nbformat_minor": 5
}
