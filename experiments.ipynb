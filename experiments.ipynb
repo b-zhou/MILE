{
 "cells": [
  {
   "cell_type": "code",
   "execution_count": null,
   "id": "b8b0c8b3",
   "metadata": {},
   "outputs": [],
   "source": [
    "from datetime import datetime\n",
    "\n",
    "import os\n",
    "from pathlib import Path\n",
    "import subprocess\n",
    "import warnings\n",
    "import re\n",
    "import pickle\n",
    "import pandas as pd\n",
    "import functools\n",
    "\n",
    "import jax\n",
    "import jax.numpy as jnp\n",
    "\n",
    "from src.config.core import Config\n",
    "from src.config.sampler import Sampler\n",
    "from src.config.data import DatasetType\n",
    "import src.dataset as ds\n",
    "from src.models.tabular import FCN\n",
    "import src.training.utils as train_utils\n",
    "import src.inference.utils as inf_utils\n",
    "import src.visualization as viz\n",
    "from src.config.data import Task\n",
    "from src.inference.evaluation import evaluate_bde\n",
    "\n",
    "from matplotlib import pyplot as plt\n",
    "import numpy as np"
   ]
  },
  {
   "cell_type": "markdown",
   "id": "d15a5339",
   "metadata": {},
   "source": [
    "### Config template"
   ]
  },
  {
   "cell_type": "code",
   "execution_count": null,
   "id": "915b8400",
   "metadata": {},
   "outputs": [],
   "source": [
    "CONFIG_DICT = {\n",
    "    'saving_dir': 'results/',\n",
    "    'experiment_name': 'bike',\n",
    "    'data': {\n",
    "        'path': 'data/bikesharing.data',\n",
    "        'source': 'local',\n",
    "        'data_type': 'tabular',\n",
    "        'task': 'regr',\n",
    "        'target_column': None,\n",
    "        'target_len': 1,\n",
    "        'features': None,\n",
    "        'datapoint_limit': None,\n",
    "        'normalize': True,\n",
    "        'train_split': 0.8,\n",
    "        'valid_split': 0.0,\n",
    "        'test_split': 0.2,\n",
    "    },\n",
    "    'model': {\n",
    "        'model': 'FCN',\n",
    "        'hidden_structure': [16, 16, 16, 2],\n",
    "        'activation': 'relu',\n",
    "        'use_bias': True,\n",
    "    },\n",
    "    'training': {\n",
    "        'warmstart': { # meaningless placeholder\n",
    "            'include': False,\n",
    "            'optimizer_config': {'name': \"sgd\", 'parameters': {}}\n",
    "        },\n",
    "        'sampler': {\n",
    "            'name': 'sgld',\n",
    "            'warmup_steps': 0,\n",
    "            'n_chains': 4,\n",
    "            'n_samples': 24000,  # total steps\n",
    "            'batch_size': 512,\n",
    "            'step_size_init': 2.0e-6,  # step_size_explore\n",
    "            'n_thinning': 1,\n",
    "            'keep_warmup': False,\n",
    "            'optimizer_name': 'sgd',\n",
    "            'prior_config': {\n",
    "                'name': 'StandardNormal'\n",
    "            },\n",
    "            'scheduler_config': {\n",
    "                'name': 'Cyclical',\n",
    "                'n_samples_per_cycle': 200,\n",
    "                'parameters': {\n",
    "                    'n_cycles': 4,\n",
    "                }\n",
    "            }\n",
    "        }\n",
    "    },\n",
    "    'rng': 1446,\n",
    "    'logging': False,\n",
    "}"
   ]
  },
  {
   "cell_type": "code",
   "execution_count": null,
   "id": "c1615637",
   "metadata": {},
   "outputs": [],
   "source": [
    "def get_config(\n",
    "        exp_name: str = 'bike',\n",
    "        n_chains: int = 4,\n",
    "        n_cycles: int = 4,\n",
    "        n_steps_per_cycle: int = 2000,\n",
    "        n_samples_per_cycle: int = 200,\n",
    "        n_thinning: int = 1,\n",
    "        optimizer_name: str = 'adam',\n",
    "        scheduler_name: str = 'Cyclical',\n",
    "        step_size_init: float = 2.0e-6,\n",
    "        step_size_sampling: float | None = None,\n",
    "        seed: int = 0\n",
    "    ):\n",
    "    n_samples = n_cycles * n_steps_per_cycle\n",
    "\n",
    "    new_config_dict = CONFIG_DICT.copy()\n",
    "    new_config_dict['experiment_name'] = exp_name\n",
    "    new_config_dict['training']['sampler'] = {\n",
    "        'name': 'sgld',\n",
    "        'warmup_steps': 0,\n",
    "        'keep_warmup': False,\n",
    "        'n_chains': n_chains,\n",
    "        'n_samples': n_samples,  # total steps\n",
    "        'batch_size': 512,\n",
    "        'step_size_init': step_size_init,  # step_size_explore\n",
    "        'n_thinning': n_thinning,\n",
    "        'optimizer_name': optimizer_name,\n",
    "        'prior_config': {\n",
    "            'name': 'StandardNormal'\n",
    "        },\n",
    "        'scheduler_config': {\n",
    "            'name': scheduler_name,\n",
    "            'n_samples_per_cycle': n_samples_per_cycle,\n",
    "            'parameters': {\n",
    "                'n_cycles': n_cycles,\n",
    "                'step_size_sampling': step_size_sampling\n",
    "            }\n",
    "        }\n",
    "    }\n",
    "    new_config_dict['rng'] = seed\n",
    "\n",
    "    # datetime_str = datetime.now().strftime(\"%Y%m%d_%H%M%S\")\n",
    "    new_config_dict['saving_dir'] = f'results/'\n",
    "    config_path = Path('experiments/csgld') / f'{exp_name}.yaml'\n",
    "    # if config_path.exists():\n",
    "    #     warnings.warn(f\"Config file {config_path} already exists. Overwriting it.\")\n",
    "    if not config_path.parent.exists():\n",
    "        config_path.parent.mkdir(parents=True)\n",
    "    Config.from_dict(new_config_dict).to_yaml(config_path)\n",
    "\n",
    "    return config_path"
   ]
  },
  {
   "cell_type": "markdown",
   "id": "8901222c",
   "metadata": {},
   "source": [
    "### Chains/Cycles"
   ]
  },
  {
   "cell_type": "code",
   "execution_count": null,
   "id": "0e1da2c6",
   "metadata": {},
   "outputs": [],
   "source": [
    "chains_cycles = [2, 4, 6, 8, 10, 12]\n",
    "seeds = [0, 42, 221, 476, 1453, 1644, 1840, 1973, 2025, 2100]"
   ]
  },
  {
   "cell_type": "markdown",
   "id": "0b5cdb79",
   "metadata": {},
   "source": [
    "### Constant Schedule"
   ]
  },
  {
   "cell_type": "code",
   "execution_count": null,
   "id": "05c754be",
   "metadata": {},
   "outputs": [],
   "source": [
    "get_config_constant = functools.partial(\n",
    "    get_config,\n",
    "    n_steps_per_cycle=5500,\n",
    "    n_samples_per_cycle=500,\n",
    "    n_thinning=10,\n",
    "    optimizer_name='adam',\n",
    "    scheduler_name='Constant',\n",
    "    step_size_init=0.01,\n",
    "    step_size_sampling=1.0e-8,\n",
    ")"
   ]
  },
  {
   "cell_type": "code",
   "execution_count": null,
   "id": "d3bbc69a",
   "metadata": {},
   "outputs": [],
   "source": [
    "# parallel\n",
    "config_paths_p = []\n",
    "for i, n in enumerate(chains_cycles):\n",
    "    for seed in seeds:\n",
    "        exp_name = f'bike8/{n}x1_constant_5000+500_seed{seed+i}'\n",
    "        config_path = get_config_constant(\n",
    "            exp_name=exp_name,\n",
    "            n_chains=n,\n",
    "            n_cycles=1,\n",
    "            seed=seed+i\n",
    "        )\n",
    "        config_paths_p.append(config_path)\n",
    "        result_path = Path('results') / exp_name / \"eval_metrics.pkl\"\n",
    "        if result_path.exists():\n",
    "            continue\n",
    "        print(\"=\" * 50)\n",
    "        print(f'Running training for config: {config_path}')\n",
    "        subprocess.run(['python', 'train.py', '-c', str(config_path), '-d', '12'])"
   ]
  },
  {
   "cell_type": "code",
   "execution_count": null,
   "id": "40d6049b",
   "metadata": {},
   "outputs": [],
   "source": [
    "# sequential\n",
    "config_paths_c = []\n",
    "max_cycles = int(np.max(chains_cycles))\n",
    "for i, n in enumerate(chains_cycles):\n",
    "    for seed in seeds:\n",
    "        exp_name = f'bike8/1x{n}_constant_5000+500_seed{seed+i}'\n",
    "        config_path = get_config_constant(\n",
    "            exp_name=exp_name,\n",
    "            n_chains=1,\n",
    "            n_cycles=n,\n",
    "            seed=seed+i\n",
    "        )\n",
    "        result_path = Path('results') / exp_name / \"eval_metrics.pkl\"\n",
    "        if result_path.exists():\n",
    "            continue\n",
    "        # print(config_path)\n",
    "        print(\"=\" * 50)\n",
    "        print(f'Running training for config: {config_path}')\n",
    "        subprocess.run(['python', 'train.py', '-c', str(config_path), '-d', '12'])"
   ]
  },
  {
   "cell_type": "code",
   "execution_count": null,
   "id": "5053ad0e",
   "metadata": {},
   "outputs": [],
   "source": [
    "parallel_configs = [(2, 6), (3, 4), (4, 3), (6, 2)]\n",
    "for i, (n_chains, n_cycles) in enumerate(parallel_configs):\n",
    "    for seed in seeds:\n",
    "        exp_name = f'bike8/{n_chains}x{n_cycles}_constant_{5000}+{500}_10_seed{seed+i}'\n",
    "        config_path = get_config_constant(\n",
    "            exp_name=exp_name,\n",
    "            n_chains=n_chains,\n",
    "            n_cycles=n_cycles,\n",
    "            seed=seed+i\n",
    "        )\n",
    "        result_path = Path('results') / exp_name / \"eval_metrics.pkl\"\n",
    "        if result_path.exists():\n",
    "            continue\n",
    "        print(\"=\" * 50)\n",
    "        print(f'Running training for config: {config_path}')\n",
    "        subprocess.run(['python', 'train.py', '-c', str(config_path), '-d', '12'])"
   ]
  },
  {
   "cell_type": "markdown",
   "id": "79c88c1c",
   "metadata": {},
   "source": [
    "### Cyclical Schedule"
   ]
  },
  {
   "cell_type": "code",
   "execution_count": null,
   "id": "feafc432",
   "metadata": {},
   "outputs": [],
   "source": [
    "get_config_cyclical = functools.partial(\n",
    "    get_config,\n",
    "    n_steps_per_cycle=12000,\n",
    "    n_samples_per_cycle=800,\n",
    "    n_thinning=10,\n",
    "    optimizer_name='sgd',\n",
    "    scheduler_name='Cyclical',\n",
    "    step_size_init=1.0e-6\n",
    ")\n",
    "\n",
    "cyclical_chains_cycles = [2, 4, 6, 8]"
   ]
  },
  {
   "cell_type": "code",
   "execution_count": null,
   "id": "a6e9e942",
   "metadata": {},
   "outputs": [],
   "source": [
    "# parallel\n",
    "config_paths_p = []\n",
    "for i, n in enumerate(cyclical_chains_cycles):\n",
    "    for seed in seeds:\n",
    "        exp_name = f'bike12/parallel_cyclical_{n}_seed{seed+i}'\n",
    "        config_path = get_config_cyclical(\n",
    "            exp_name=exp_name,\n",
    "            n_chains=n,\n",
    "            n_cycles=1,\n",
    "            seed=seed+i\n",
    "        )\n",
    "        config_paths_p.append(config_path)\n",
    "        result_path = Path('results') / exp_name / \"eval_metrics.pkl\"\n",
    "        if result_path.exists():\n",
    "            continue\n",
    "        print(\"=\" * 50)\n",
    "        print(f'Running training for config: {config_path}')\n",
    "        subprocess.run(['python', 'train.py', '-c', str(config_path), '-d', '12'])"
   ]
  },
  {
   "cell_type": "code",
   "execution_count": null,
   "id": "b073ada0",
   "metadata": {},
   "outputs": [],
   "source": [
    "# sequential\n",
    "config_paths_s = []\n",
    "# max_cycles = int(np.max(chains_cycles))\n",
    "for i, n in enumerate(cyclical_chains_cycles):\n",
    "    for seed in seeds:\n",
    "        exp_name = f'bike11/sequential_cyclical_{n}_seed{seed+i}'\n",
    "        config_path = get_config_cyclical(\n",
    "            exp_name=exp_name,\n",
    "            n_chains=1,\n",
    "            n_cycles=n,\n",
    "            seed=seed+i\n",
    "        )\n",
    "        result_path = Path('results') / exp_name / \"eval_metrics.pkl\"\n",
    "        if result_path.exists():\n",
    "            continue\n",
    "        print(\"=\" * 50)\n",
    "        print(f'Running training for config: {config_path}')\n",
    "        subprocess.run(['python', 'train.py', '-c', str(config_path), '-d', '12'])"
   ]
  },
  {
   "cell_type": "markdown",
   "id": "7373fb8e",
   "metadata": {},
   "source": [
    "### Cycle Length Ablation"
   ]
  },
  {
   "cell_type": "code",
   "execution_count": null,
   "id": "c65c5b1c",
   "metadata": {},
   "outputs": [],
   "source": [
    "get_config_constant_different_length = functools.partial(\n",
    "    get_config,\n",
    "    n_thinning=10,\n",
    "    optimizer_name='adam',\n",
    "    scheduler_name='Constant',\n",
    "    step_size_init=0.01,\n",
    "    step_size_sampling=1.0e-8,\n",
    ")"
   ]
  },
  {
   "cell_type": "code",
   "execution_count": null,
   "id": "f2fa7baf",
   "metadata": {},
   "outputs": [
    {
     "name": "stdout",
     "output_type": "stream",
     "text": [
      "==================================================\n",
      "Running training for config: experiments/csgld/bike13/1x8_constant_2000+500_seed0.yaml\n",
      "2025-07-03 13:42:45,731 - __main__ - INFO - Loaded 1 Experiment(s)\n",
      "2025-07-03 13:42:46,315 - datasets - INFO - PyTorch version 2.2.2+cpu available.\n",
      "2025-07-03 13:42:46,316 - datasets - INFO - JAX version 0.4.28 available.\n",
      "2025-07-03 13:42:46,730 - __main__ - INFO - > Running experiment: bike13/1x8_constant_2000+500_seed0\n",
      "2025-07-03 13:42:46,743 - jax._src.xla_bridge - INFO - Unable to initialize backend 'cuda': \n",
      "2025-07-03 13:42:46,743 - jax._src.xla_bridge - INFO - Unable to initialize backend 'rocm': module 'jaxlib.xla_extension' has no attribute 'GpuAllocatorConfig'\n",
      "2025-07-03 13:42:46,744 - jax._src.xla_bridge - INFO - Unable to initialize backend 'tpu': INTERNAL: Failed to open libtpu.so: libtpu.so: cannot open shared object file: No such file or directory\n",
      "2025-07-03 13:42:46,744 - jax._src.xla_bridge - WARNING - An NVIDIA GPU may be present on this machine, but a CUDA-enabled jaxlib is not installed. Falling back to cpu.\n",
      "2025-07-03 13:42:46,798 - src.training.trainer - INFO - > Setting up directories...\n"
     ]
    },
    {
     "name": "stderr",
     "output_type": "stream",
     "text": [
      "Sampling: 100%|██████████| 20000/20000 [00:24<00:00, 803.40it/s]\n"
     ]
    },
    {
     "name": "stdout",
     "output_type": "stream",
     "text": [
      "==================================================\n",
      "Running training for config: experiments/csgld/bike13/1x8_constant_2000+500_seed42.yaml\n",
      "2025-07-03 13:43:32,884 - __main__ - INFO - Loaded 1 Experiment(s)\n",
      "2025-07-03 13:43:33,487 - datasets - INFO - PyTorch version 2.2.2+cpu available.\n",
      "2025-07-03 13:43:33,487 - datasets - INFO - JAX version 0.4.28 available.\n",
      "2025-07-03 13:43:33,921 - __main__ - INFO - > Running experiment: bike13/1x8_constant_2000+500_seed42\n",
      "2025-07-03 13:43:33,934 - jax._src.xla_bridge - INFO - Unable to initialize backend 'cuda': \n",
      "2025-07-03 13:43:33,934 - jax._src.xla_bridge - INFO - Unable to initialize backend 'rocm': module 'jaxlib.xla_extension' has no attribute 'GpuAllocatorConfig'\n",
      "2025-07-03 13:43:33,935 - jax._src.xla_bridge - INFO - Unable to initialize backend 'tpu': INTERNAL: Failed to open libtpu.so: libtpu.so: cannot open shared object file: No such file or directory\n",
      "2025-07-03 13:43:33,935 - jax._src.xla_bridge - WARNING - An NVIDIA GPU may be present on this machine, but a CUDA-enabled jaxlib is not installed. Falling back to cpu.\n",
      "2025-07-03 13:43:33,991 - src.training.trainer - INFO - > Setting up directories...\n"
     ]
    },
    {
     "name": "stderr",
     "output_type": "stream",
     "text": [
      "Sampling: 100%|██████████| 20000/20000 [00:25<00:00, 799.48it/s]\n"
     ]
    },
    {
     "name": "stdout",
     "output_type": "stream",
     "text": [
      "==================================================\n",
      "Running training for config: experiments/csgld/bike13/1x8_constant_2000+500_seed221.yaml\n",
      "2025-07-03 13:44:20,284 - __main__ - INFO - Loaded 1 Experiment(s)\n",
      "2025-07-03 13:44:20,867 - datasets - INFO - PyTorch version 2.2.2+cpu available.\n",
      "2025-07-03 13:44:20,867 - datasets - INFO - JAX version 0.4.28 available.\n",
      "2025-07-03 13:44:21,250 - __main__ - INFO - > Running experiment: bike13/1x8_constant_2000+500_seed221\n",
      "2025-07-03 13:44:21,258 - jax._src.xla_bridge - INFO - Unable to initialize backend 'cuda': \n",
      "2025-07-03 13:44:21,259 - jax._src.xla_bridge - INFO - Unable to initialize backend 'rocm': module 'jaxlib.xla_extension' has no attribute 'GpuAllocatorConfig'\n",
      "2025-07-03 13:44:21,259 - jax._src.xla_bridge - INFO - Unable to initialize backend 'tpu': INTERNAL: Failed to open libtpu.so: libtpu.so: cannot open shared object file: No such file or directory\n",
      "2025-07-03 13:44:21,259 - jax._src.xla_bridge - WARNING - An NVIDIA GPU may be present on this machine, but a CUDA-enabled jaxlib is not installed. Falling back to cpu.\n",
      "2025-07-03 13:44:21,305 - src.training.trainer - INFO - > Setting up directories...\n"
     ]
    },
    {
     "name": "stderr",
     "output_type": "stream",
     "text": [
      "Sampling: 100%|██████████| 20000/20000 [00:24<00:00, 801.03it/s]\n"
     ]
    },
    {
     "name": "stdout",
     "output_type": "stream",
     "text": [
      "==================================================\n",
      "Running training for config: experiments/csgld/bike13/1x8_constant_2000+500_seed476.yaml\n",
      "2025-07-03 13:45:07,614 - __main__ - INFO - Loaded 1 Experiment(s)\n",
      "2025-07-03 13:45:08,172 - datasets - INFO - PyTorch version 2.2.2+cpu available.\n",
      "2025-07-03 13:45:08,173 - datasets - INFO - JAX version 0.4.28 available.\n",
      "2025-07-03 13:45:08,598 - __main__ - INFO - > Running experiment: bike13/1x8_constant_2000+500_seed476\n",
      "2025-07-03 13:45:08,608 - jax._src.xla_bridge - INFO - Unable to initialize backend 'cuda': \n",
      "2025-07-03 13:45:08,608 - jax._src.xla_bridge - INFO - Unable to initialize backend 'rocm': module 'jaxlib.xla_extension' has no attribute 'GpuAllocatorConfig'\n",
      "2025-07-03 13:45:08,609 - jax._src.xla_bridge - INFO - Unable to initialize backend 'tpu': INTERNAL: Failed to open libtpu.so: libtpu.so: cannot open shared object file: No such file or directory\n",
      "2025-07-03 13:45:08,609 - jax._src.xla_bridge - WARNING - An NVIDIA GPU may be present on this machine, but a CUDA-enabled jaxlib is not installed. Falling back to cpu.\n",
      "2025-07-03 13:45:08,665 - src.training.trainer - INFO - > Setting up directories...\n"
     ]
    },
    {
     "name": "stderr",
     "output_type": "stream",
     "text": [
      "Sampling: 100%|██████████| 20000/20000 [00:25<00:00, 793.87it/s]\n"
     ]
    },
    {
     "name": "stdout",
     "output_type": "stream",
     "text": [
      "==================================================\n",
      "Running training for config: experiments/csgld/bike13/1x8_constant_2000+500_seed1453.yaml\n",
      "2025-07-03 13:45:55,637 - __main__ - INFO - Loaded 1 Experiment(s)\n",
      "2025-07-03 13:45:56,260 - datasets - INFO - PyTorch version 2.2.2+cpu available.\n",
      "2025-07-03 13:45:56,261 - datasets - INFO - JAX version 0.4.28 available.\n",
      "2025-07-03 13:45:56,704 - __main__ - INFO - > Running experiment: bike13/1x8_constant_2000+500_seed1453\n",
      "2025-07-03 13:45:56,714 - jax._src.xla_bridge - INFO - Unable to initialize backend 'cuda': \n",
      "2025-07-03 13:45:56,714 - jax._src.xla_bridge - INFO - Unable to initialize backend 'rocm': module 'jaxlib.xla_extension' has no attribute 'GpuAllocatorConfig'\n",
      "2025-07-03 13:45:56,714 - jax._src.xla_bridge - INFO - Unable to initialize backend 'tpu': INTERNAL: Failed to open libtpu.so: libtpu.so: cannot open shared object file: No such file or directory\n",
      "2025-07-03 13:45:56,714 - jax._src.xla_bridge - WARNING - An NVIDIA GPU may be present on this machine, but a CUDA-enabled jaxlib is not installed. Falling back to cpu.\n",
      "2025-07-03 13:45:56,760 - src.training.trainer - INFO - > Setting up directories...\n"
     ]
    },
    {
     "name": "stderr",
     "output_type": "stream",
     "text": [
      "Sampling: 100%|██████████| 20000/20000 [00:25<00:00, 784.45it/s]\n"
     ]
    },
    {
     "name": "stdout",
     "output_type": "stream",
     "text": [
      "==================================================\n",
      "Running training for config: experiments/csgld/bike13/1x8_constant_2000+500_seed1644.yaml\n",
      "2025-07-03 13:46:43,768 - __main__ - INFO - Loaded 1 Experiment(s)\n",
      "2025-07-03 13:46:44,341 - datasets - INFO - PyTorch version 2.2.2+cpu available.\n",
      "2025-07-03 13:46:44,342 - datasets - INFO - JAX version 0.4.28 available.\n",
      "2025-07-03 13:46:44,748 - __main__ - INFO - > Running experiment: bike13/1x8_constant_2000+500_seed1644\n",
      "2025-07-03 13:46:44,758 - jax._src.xla_bridge - INFO - Unable to initialize backend 'cuda': \n",
      "2025-07-03 13:46:44,758 - jax._src.xla_bridge - INFO - Unable to initialize backend 'rocm': module 'jaxlib.xla_extension' has no attribute 'GpuAllocatorConfig'\n",
      "2025-07-03 13:46:44,759 - jax._src.xla_bridge - INFO - Unable to initialize backend 'tpu': INTERNAL: Failed to open libtpu.so: libtpu.so: cannot open shared object file: No such file or directory\n",
      "2025-07-03 13:46:44,759 - jax._src.xla_bridge - WARNING - An NVIDIA GPU may be present on this machine, but a CUDA-enabled jaxlib is not installed. Falling back to cpu.\n",
      "2025-07-03 13:46:44,803 - src.training.trainer - INFO - > Setting up directories...\n"
     ]
    },
    {
     "name": "stderr",
     "output_type": "stream",
     "text": [
      "Sampling: 100%|██████████| 20000/20000 [00:25<00:00, 794.43it/s]\n"
     ]
    },
    {
     "name": "stdout",
     "output_type": "stream",
     "text": [
      "==================================================\n",
      "Running training for config: experiments/csgld/bike13/1x8_constant_2000+500_seed1840.yaml\n",
      "2025-07-03 13:47:32,256 - __main__ - INFO - Loaded 1 Experiment(s)\n",
      "2025-07-03 13:47:32,822 - datasets - INFO - PyTorch version 2.2.2+cpu available.\n",
      "2025-07-03 13:47:32,823 - datasets - INFO - JAX version 0.4.28 available.\n",
      "2025-07-03 13:47:33,229 - __main__ - INFO - > Running experiment: bike13/1x8_constant_2000+500_seed1840\n",
      "2025-07-03 13:47:33,239 - jax._src.xla_bridge - INFO - Unable to initialize backend 'cuda': \n",
      "2025-07-03 13:47:33,239 - jax._src.xla_bridge - INFO - Unable to initialize backend 'rocm': module 'jaxlib.xla_extension' has no attribute 'GpuAllocatorConfig'\n",
      "2025-07-03 13:47:33,239 - jax._src.xla_bridge - INFO - Unable to initialize backend 'tpu': INTERNAL: Failed to open libtpu.so: libtpu.so: cannot open shared object file: No such file or directory\n",
      "2025-07-03 13:47:33,240 - jax._src.xla_bridge - WARNING - An NVIDIA GPU may be present on this machine, but a CUDA-enabled jaxlib is not installed. Falling back to cpu.\n",
      "2025-07-03 13:47:33,288 - src.training.trainer - INFO - > Setting up directories...\n"
     ]
    },
    {
     "name": "stderr",
     "output_type": "stream",
     "text": [
      "Sampling: 100%|██████████| 20000/20000 [00:24<00:00, 810.55it/s]\n"
     ]
    },
    {
     "name": "stdout",
     "output_type": "stream",
     "text": [
      "==================================================\n",
      "Running training for config: experiments/csgld/bike13/1x8_constant_2000+500_seed1973.yaml\n",
      "2025-07-03 13:48:20,833 - __main__ - INFO - Loaded 1 Experiment(s)\n",
      "2025-07-03 13:48:21,362 - datasets - INFO - PyTorch version 2.2.2+cpu available.\n",
      "2025-07-03 13:48:21,363 - datasets - INFO - JAX version 0.4.28 available.\n",
      "2025-07-03 13:48:21,745 - __main__ - INFO - > Running experiment: bike13/1x8_constant_2000+500_seed1973\n",
      "2025-07-03 13:48:21,754 - jax._src.xla_bridge - INFO - Unable to initialize backend 'cuda': \n",
      "2025-07-03 13:48:21,754 - jax._src.xla_bridge - INFO - Unable to initialize backend 'rocm': module 'jaxlib.xla_extension' has no attribute 'GpuAllocatorConfig'\n",
      "2025-07-03 13:48:21,755 - jax._src.xla_bridge - INFO - Unable to initialize backend 'tpu': INTERNAL: Failed to open libtpu.so: libtpu.so: cannot open shared object file: No such file or directory\n",
      "2025-07-03 13:48:21,755 - jax._src.xla_bridge - WARNING - An NVIDIA GPU may be present on this machine, but a CUDA-enabled jaxlib is not installed. Falling back to cpu.\n",
      "2025-07-03 13:48:21,799 - src.training.trainer - INFO - > Setting up directories...\n"
     ]
    },
    {
     "name": "stderr",
     "output_type": "stream",
     "text": [
      "Sampling: 100%|██████████| 20000/20000 [00:25<00:00, 784.96it/s]\n"
     ]
    },
    {
     "name": "stdout",
     "output_type": "stream",
     "text": [
      "==================================================\n",
      "Running training for config: experiments/csgld/bike13/1x8_constant_2000+500_seed2025.yaml\n",
      "2025-07-03 13:49:08,878 - __main__ - INFO - Loaded 1 Experiment(s)\n",
      "2025-07-03 13:49:09,488 - datasets - INFO - PyTorch version 2.2.2+cpu available.\n",
      "2025-07-03 13:49:09,489 - datasets - INFO - JAX version 0.4.28 available.\n",
      "2025-07-03 13:49:09,943 - __main__ - INFO - > Running experiment: bike13/1x8_constant_2000+500_seed2025\n",
      "2025-07-03 13:49:09,953 - jax._src.xla_bridge - INFO - Unable to initialize backend 'cuda': \n",
      "2025-07-03 13:49:09,953 - jax._src.xla_bridge - INFO - Unable to initialize backend 'rocm': module 'jaxlib.xla_extension' has no attribute 'GpuAllocatorConfig'\n",
      "2025-07-03 13:49:09,953 - jax._src.xla_bridge - INFO - Unable to initialize backend 'tpu': INTERNAL: Failed to open libtpu.so: libtpu.so: cannot open shared object file: No such file or directory\n",
      "2025-07-03 13:49:09,953 - jax._src.xla_bridge - WARNING - An NVIDIA GPU may be present on this machine, but a CUDA-enabled jaxlib is not installed. Falling back to cpu.\n",
      "2025-07-03 13:49:10,005 - src.training.trainer - INFO - > Setting up directories...\n"
     ]
    },
    {
     "name": "stderr",
     "output_type": "stream",
     "text": [
      "Sampling: 100%|██████████| 20000/20000 [00:24<00:00, 801.27it/s]\n"
     ]
    },
    {
     "name": "stdout",
     "output_type": "stream",
     "text": [
      "==================================================\n",
      "Running training for config: experiments/csgld/bike13/1x8_constant_2000+500_seed2100.yaml\n",
      "2025-07-03 13:49:56,146 - __main__ - INFO - Loaded 1 Experiment(s)\n",
      "2025-07-03 13:49:56,693 - datasets - INFO - PyTorch version 2.2.2+cpu available.\n",
      "2025-07-03 13:49:56,694 - datasets - INFO - JAX version 0.4.28 available.\n",
      "2025-07-03 13:49:57,074 - __main__ - INFO - > Running experiment: bike13/1x8_constant_2000+500_seed2100\n",
      "2025-07-03 13:49:57,084 - jax._src.xla_bridge - INFO - Unable to initialize backend 'cuda': \n",
      "2025-07-03 13:49:57,084 - jax._src.xla_bridge - INFO - Unable to initialize backend 'rocm': module 'jaxlib.xla_extension' has no attribute 'GpuAllocatorConfig'\n",
      "2025-07-03 13:49:57,085 - jax._src.xla_bridge - INFO - Unable to initialize backend 'tpu': INTERNAL: Failed to open libtpu.so: libtpu.so: cannot open shared object file: No such file or directory\n",
      "2025-07-03 13:49:57,085 - jax._src.xla_bridge - WARNING - An NVIDIA GPU may be present on this machine, but a CUDA-enabled jaxlib is not installed. Falling back to cpu.\n",
      "2025-07-03 13:49:57,129 - src.training.trainer - INFO - > Setting up directories...\n"
     ]
    },
    {
     "name": "stderr",
     "output_type": "stream",
     "text": [
      "Sampling: 100%|██████████| 20000/20000 [00:25<00:00, 771.63it/s]\n"
     ]
    },
    {
     "name": "stdout",
     "output_type": "stream",
     "text": [
      "==================================================\n",
      "Running training for config: experiments/csgld/bike13/1x8_constant_3000+500_seed1.yaml\n",
      "2025-07-03 13:50:46,013 - __main__ - INFO - Loaded 1 Experiment(s)\n",
      "2025-07-03 13:50:46,574 - datasets - INFO - PyTorch version 2.2.2+cpu available.\n",
      "2025-07-03 13:50:46,575 - datasets - INFO - JAX version 0.4.28 available.\n",
      "2025-07-03 13:50:46,959 - __main__ - INFO - > Running experiment: bike13/1x8_constant_3000+500_seed1\n",
      "2025-07-03 13:50:46,969 - jax._src.xla_bridge - INFO - Unable to initialize backend 'cuda': \n",
      "2025-07-03 13:50:46,969 - jax._src.xla_bridge - INFO - Unable to initialize backend 'rocm': module 'jaxlib.xla_extension' has no attribute 'GpuAllocatorConfig'\n",
      "2025-07-03 13:50:46,969 - jax._src.xla_bridge - INFO - Unable to initialize backend 'tpu': INTERNAL: Failed to open libtpu.so: libtpu.so: cannot open shared object file: No such file or directory\n",
      "2025-07-03 13:50:46,970 - jax._src.xla_bridge - WARNING - An NVIDIA GPU may be present on this machine, but a CUDA-enabled jaxlib is not installed. Falling back to cpu.\n",
      "2025-07-03 13:50:47,015 - src.training.trainer - INFO - > Setting up directories...\n"
     ]
    },
    {
     "name": "stderr",
     "output_type": "stream",
     "text": [
      "Sampling: 100%|██████████| 28000/28000 [00:37<00:00, 748.91it/s]\n"
     ]
    },
    {
     "name": "stdout",
     "output_type": "stream",
     "text": [
      "==================================================\n",
      "Running training for config: experiments/csgld/bike13/1x8_constant_3000+500_seed43.yaml\n",
      "2025-07-03 13:51:46,150 - __main__ - INFO - Loaded 1 Experiment(s)\n",
      "2025-07-03 13:51:46,754 - datasets - INFO - PyTorch version 2.2.2+cpu available.\n",
      "2025-07-03 13:51:46,755 - datasets - INFO - JAX version 0.4.28 available.\n",
      "2025-07-03 13:51:47,150 - __main__ - INFO - > Running experiment: bike13/1x8_constant_3000+500_seed43\n",
      "2025-07-03 13:51:47,160 - jax._src.xla_bridge - INFO - Unable to initialize backend 'cuda': \n",
      "2025-07-03 13:51:47,160 - jax._src.xla_bridge - INFO - Unable to initialize backend 'rocm': module 'jaxlib.xla_extension' has no attribute 'GpuAllocatorConfig'\n",
      "2025-07-03 13:51:47,160 - jax._src.xla_bridge - INFO - Unable to initialize backend 'tpu': INTERNAL: Failed to open libtpu.so: libtpu.so: cannot open shared object file: No such file or directory\n",
      "2025-07-03 13:51:47,160 - jax._src.xla_bridge - WARNING - An NVIDIA GPU may be present on this machine, but a CUDA-enabled jaxlib is not installed. Falling back to cpu.\n",
      "2025-07-03 13:51:47,206 - src.training.trainer - INFO - > Setting up directories...\n"
     ]
    },
    {
     "name": "stderr",
     "output_type": "stream",
     "text": [
      "Sampling: 100%|██████████| 28000/28000 [00:35<00:00, 796.81it/s]\n"
     ]
    },
    {
     "name": "stdout",
     "output_type": "stream",
     "text": [
      "==================================================\n",
      "Running training for config: experiments/csgld/bike13/1x8_constant_3000+500_seed222.yaml\n",
      "2025-07-03 13:52:43,998 - __main__ - INFO - Loaded 1 Experiment(s)\n",
      "2025-07-03 13:52:44,539 - datasets - INFO - PyTorch version 2.2.2+cpu available.\n",
      "2025-07-03 13:52:44,540 - datasets - INFO - JAX version 0.4.28 available.\n",
      "2025-07-03 13:52:44,921 - __main__ - INFO - > Running experiment: bike13/1x8_constant_3000+500_seed222\n",
      "2025-07-03 13:52:44,931 - jax._src.xla_bridge - INFO - Unable to initialize backend 'cuda': \n",
      "2025-07-03 13:52:44,931 - jax._src.xla_bridge - INFO - Unable to initialize backend 'rocm': module 'jaxlib.xla_extension' has no attribute 'GpuAllocatorConfig'\n",
      "2025-07-03 13:52:44,932 - jax._src.xla_bridge - INFO - Unable to initialize backend 'tpu': INTERNAL: Failed to open libtpu.so: libtpu.so: cannot open shared object file: No such file or directory\n",
      "2025-07-03 13:52:44,932 - jax._src.xla_bridge - WARNING - An NVIDIA GPU may be present on this machine, but a CUDA-enabled jaxlib is not installed. Falling back to cpu.\n",
      "2025-07-03 13:52:44,976 - src.training.trainer - INFO - > Setting up directories...\n"
     ]
    },
    {
     "name": "stderr",
     "output_type": "stream",
     "text": [
      "Sampling: 100%|██████████| 28000/28000 [00:35<00:00, 786.34it/s]\n"
     ]
    },
    {
     "name": "stdout",
     "output_type": "stream",
     "text": [
      "==================================================\n",
      "Running training for config: experiments/csgld/bike13/1x8_constant_3000+500_seed477.yaml\n",
      "2025-07-03 13:53:42,531 - __main__ - INFO - Loaded 1 Experiment(s)\n",
      "2025-07-03 13:53:43,095 - datasets - INFO - PyTorch version 2.2.2+cpu available.\n",
      "2025-07-03 13:53:43,096 - datasets - INFO - JAX version 0.4.28 available.\n",
      "2025-07-03 13:53:43,552 - __main__ - INFO - > Running experiment: bike13/1x8_constant_3000+500_seed477\n",
      "2025-07-03 13:53:43,562 - jax._src.xla_bridge - INFO - Unable to initialize backend 'cuda': \n",
      "2025-07-03 13:53:43,563 - jax._src.xla_bridge - INFO - Unable to initialize backend 'rocm': module 'jaxlib.xla_extension' has no attribute 'GpuAllocatorConfig'\n",
      "2025-07-03 13:53:43,563 - jax._src.xla_bridge - INFO - Unable to initialize backend 'tpu': INTERNAL: Failed to open libtpu.so: libtpu.so: cannot open shared object file: No such file or directory\n",
      "2025-07-03 13:53:43,563 - jax._src.xla_bridge - WARNING - An NVIDIA GPU may be present on this machine, but a CUDA-enabled jaxlib is not installed. Falling back to cpu.\n",
      "2025-07-03 13:53:43,614 - src.training.trainer - INFO - > Setting up directories...\n"
     ]
    },
    {
     "name": "stderr",
     "output_type": "stream",
     "text": [
      "Sampling: 100%|██████████| 28000/28000 [00:36<00:00, 771.61it/s]\n"
     ]
    },
    {
     "name": "stdout",
     "output_type": "stream",
     "text": [
      "==================================================\n",
      "Running training for config: experiments/csgld/bike13/1x8_constant_3000+500_seed1454.yaml\n",
      "2025-07-03 13:54:41,702 - __main__ - INFO - Loaded 1 Experiment(s)\n",
      "2025-07-03 13:54:42,246 - datasets - INFO - PyTorch version 2.2.2+cpu available.\n",
      "2025-07-03 13:54:42,247 - datasets - INFO - JAX version 0.4.28 available.\n",
      "2025-07-03 13:54:42,624 - __main__ - INFO - > Running experiment: bike13/1x8_constant_3000+500_seed1454\n",
      "2025-07-03 13:54:42,634 - jax._src.xla_bridge - INFO - Unable to initialize backend 'cuda': \n",
      "2025-07-03 13:54:42,634 - jax._src.xla_bridge - INFO - Unable to initialize backend 'rocm': module 'jaxlib.xla_extension' has no attribute 'GpuAllocatorConfig'\n",
      "2025-07-03 13:54:42,634 - jax._src.xla_bridge - INFO - Unable to initialize backend 'tpu': INTERNAL: Failed to open libtpu.so: libtpu.so: cannot open shared object file: No such file or directory\n",
      "2025-07-03 13:54:42,635 - jax._src.xla_bridge - WARNING - An NVIDIA GPU may be present on this machine, but a CUDA-enabled jaxlib is not installed. Falling back to cpu.\n",
      "2025-07-03 13:54:42,679 - src.training.trainer - INFO - > Setting up directories...\n"
     ]
    },
    {
     "name": "stderr",
     "output_type": "stream",
     "text": [
      "Sampling: 100%|██████████| 28000/28000 [00:36<00:00, 775.49it/s]\n"
     ]
    },
    {
     "name": "stdout",
     "output_type": "stream",
     "text": [
      "==================================================\n",
      "Running training for config: experiments/csgld/bike13/1x8_constant_3000+500_seed1645.yaml\n",
      "2025-07-03 13:55:40,691 - __main__ - INFO - Loaded 1 Experiment(s)\n",
      "2025-07-03 13:55:41,384 - datasets - INFO - PyTorch version 2.2.2+cpu available.\n",
      "2025-07-03 13:55:41,385 - datasets - INFO - JAX version 0.4.28 available.\n",
      "2025-07-03 13:55:41,844 - __main__ - INFO - > Running experiment: bike13/1x8_constant_3000+500_seed1645\n",
      "2025-07-03 13:55:41,854 - jax._src.xla_bridge - INFO - Unable to initialize backend 'cuda': \n",
      "2025-07-03 13:55:41,854 - jax._src.xla_bridge - INFO - Unable to initialize backend 'rocm': module 'jaxlib.xla_extension' has no attribute 'GpuAllocatorConfig'\n",
      "2025-07-03 13:55:41,855 - jax._src.xla_bridge - INFO - Unable to initialize backend 'tpu': INTERNAL: Failed to open libtpu.so: libtpu.so: cannot open shared object file: No such file or directory\n",
      "2025-07-03 13:55:41,855 - jax._src.xla_bridge - WARNING - An NVIDIA GPU may be present on this machine, but a CUDA-enabled jaxlib is not installed. Falling back to cpu.\n",
      "2025-07-03 13:55:41,901 - src.training.trainer - INFO - > Setting up directories...\n"
     ]
    },
    {
     "name": "stderr",
     "output_type": "stream",
     "text": [
      "Sampling: 100%|██████████| 28000/28000 [00:35<00:00, 793.38it/s]\n"
     ]
    },
    {
     "name": "stdout",
     "output_type": "stream",
     "text": [
      "==================================================\n",
      "Running training for config: experiments/csgld/bike13/1x8_constant_3000+500_seed1841.yaml\n",
      "2025-07-03 13:56:39,077 - __main__ - INFO - Loaded 1 Experiment(s)\n",
      "2025-07-03 13:56:39,625 - datasets - INFO - PyTorch version 2.2.2+cpu available.\n",
      "2025-07-03 13:56:39,625 - datasets - INFO - JAX version 0.4.28 available.\n",
      "2025-07-03 13:56:40,029 - __main__ - INFO - > Running experiment: bike13/1x8_constant_3000+500_seed1841\n",
      "2025-07-03 13:56:40,038 - jax._src.xla_bridge - INFO - Unable to initialize backend 'cuda': \n",
      "2025-07-03 13:56:40,038 - jax._src.xla_bridge - INFO - Unable to initialize backend 'rocm': module 'jaxlib.xla_extension' has no attribute 'GpuAllocatorConfig'\n",
      "2025-07-03 13:56:40,039 - jax._src.xla_bridge - INFO - Unable to initialize backend 'tpu': INTERNAL: Failed to open libtpu.so: libtpu.so: cannot open shared object file: No such file or directory\n",
      "2025-07-03 13:56:40,039 - jax._src.xla_bridge - WARNING - An NVIDIA GPU may be present on this machine, but a CUDA-enabled jaxlib is not installed. Falling back to cpu.\n",
      "2025-07-03 13:56:40,085 - src.training.trainer - INFO - > Setting up directories...\n"
     ]
    },
    {
     "name": "stderr",
     "output_type": "stream",
     "text": [
      "Sampling: 100%|██████████| 28000/28000 [00:34<00:00, 804.56it/s]\n"
     ]
    },
    {
     "name": "stdout",
     "output_type": "stream",
     "text": [
      "==================================================\n",
      "Running training for config: experiments/csgld/bike13/1x8_constant_3000+500_seed1974.yaml\n",
      "2025-07-03 13:57:37,839 - __main__ - INFO - Loaded 1 Experiment(s)\n",
      "2025-07-03 13:57:38,567 - datasets - INFO - PyTorch version 2.2.2+cpu available.\n",
      "2025-07-03 13:57:38,567 - datasets - INFO - JAX version 0.4.28 available.\n",
      "2025-07-03 13:57:39,087 - __main__ - INFO - > Running experiment: bike13/1x8_constant_3000+500_seed1974\n",
      "2025-07-03 13:57:39,097 - jax._src.xla_bridge - INFO - Unable to initialize backend 'cuda': \n",
      "2025-07-03 13:57:39,097 - jax._src.xla_bridge - INFO - Unable to initialize backend 'rocm': module 'jaxlib.xla_extension' has no attribute 'GpuAllocatorConfig'\n",
      "2025-07-03 13:57:39,098 - jax._src.xla_bridge - INFO - Unable to initialize backend 'tpu': INTERNAL: Failed to open libtpu.so: libtpu.so: cannot open shared object file: No such file or directory\n",
      "2025-07-03 13:57:39,098 - jax._src.xla_bridge - WARNING - An NVIDIA GPU may be present on this machine, but a CUDA-enabled jaxlib is not installed. Falling back to cpu.\n",
      "2025-07-03 13:57:39,145 - src.training.trainer - INFO - > Setting up directories...\n"
     ]
    },
    {
     "name": "stderr",
     "output_type": "stream",
     "text": [
      "Sampling: 100%|██████████| 28000/28000 [00:35<00:00, 796.89it/s]\n"
     ]
    },
    {
     "name": "stdout",
     "output_type": "stream",
     "text": [
      "==================================================\n",
      "Running training for config: experiments/csgld/bike13/1x8_constant_3000+500_seed2026.yaml\n",
      "2025-07-03 13:58:36,688 - __main__ - INFO - Loaded 1 Experiment(s)\n",
      "2025-07-03 13:58:37,238 - datasets - INFO - PyTorch version 2.2.2+cpu available.\n",
      "2025-07-03 13:58:37,239 - datasets - INFO - JAX version 0.4.28 available.\n",
      "2025-07-03 13:58:37,696 - __main__ - INFO - > Running experiment: bike13/1x8_constant_3000+500_seed2026\n",
      "2025-07-03 13:58:37,708 - jax._src.xla_bridge - INFO - Unable to initialize backend 'cuda': \n",
      "2025-07-03 13:58:37,708 - jax._src.xla_bridge - INFO - Unable to initialize backend 'rocm': module 'jaxlib.xla_extension' has no attribute 'GpuAllocatorConfig'\n",
      "2025-07-03 13:58:37,709 - jax._src.xla_bridge - INFO - Unable to initialize backend 'tpu': INTERNAL: Failed to open libtpu.so: libtpu.so: cannot open shared object file: No such file or directory\n",
      "2025-07-03 13:58:37,709 - jax._src.xla_bridge - WARNING - An NVIDIA GPU may be present on this machine, but a CUDA-enabled jaxlib is not installed. Falling back to cpu.\n",
      "2025-07-03 13:58:37,763 - src.training.trainer - INFO - > Setting up directories...\n"
     ]
    },
    {
     "name": "stderr",
     "output_type": "stream",
     "text": [
      "Sampling: 100%|██████████| 28000/28000 [00:34<00:00, 817.68it/s]\n"
     ]
    },
    {
     "name": "stdout",
     "output_type": "stream",
     "text": [
      "==================================================\n",
      "Running training for config: experiments/csgld/bike13/1x8_constant_3000+500_seed2101.yaml\n",
      "2025-07-03 13:59:32,871 - __main__ - INFO - Loaded 1 Experiment(s)\n",
      "2025-07-03 13:59:33,415 - datasets - INFO - PyTorch version 2.2.2+cpu available.\n",
      "2025-07-03 13:59:33,416 - datasets - INFO - JAX version 0.4.28 available.\n",
      "2025-07-03 13:59:33,810 - __main__ - INFO - > Running experiment: bike13/1x8_constant_3000+500_seed2101\n",
      "2025-07-03 13:59:33,820 - jax._src.xla_bridge - INFO - Unable to initialize backend 'cuda': \n",
      "2025-07-03 13:59:33,820 - jax._src.xla_bridge - INFO - Unable to initialize backend 'rocm': module 'jaxlib.xla_extension' has no attribute 'GpuAllocatorConfig'\n",
      "2025-07-03 13:59:33,821 - jax._src.xla_bridge - INFO - Unable to initialize backend 'tpu': INTERNAL: Failed to open libtpu.so: libtpu.so: cannot open shared object file: No such file or directory\n",
      "2025-07-03 13:59:33,821 - jax._src.xla_bridge - WARNING - An NVIDIA GPU may be present on this machine, but a CUDA-enabled jaxlib is not installed. Falling back to cpu.\n",
      "2025-07-03 13:59:33,868 - src.training.trainer - INFO - > Setting up directories...\n"
     ]
    },
    {
     "name": "stderr",
     "output_type": "stream",
     "text": [
      "Sampling: 100%|██████████| 28000/28000 [00:34<00:00, 815.16it/s]\n"
     ]
    },
    {
     "name": "stdout",
     "output_type": "stream",
     "text": [
      "==================================================\n",
      "Running training for config: experiments/csgld/bike13/1x8_constant_4000+500_seed2.yaml\n",
      "2025-07-03 14:00:30,807 - __main__ - INFO - Loaded 1 Experiment(s)\n",
      "2025-07-03 14:00:31,507 - datasets - INFO - PyTorch version 2.2.2+cpu available.\n",
      "2025-07-03 14:00:31,508 - datasets - INFO - JAX version 0.4.28 available.\n",
      "2025-07-03 14:00:31,927 - __main__ - INFO - > Running experiment: bike13/1x8_constant_4000+500_seed2\n",
      "2025-07-03 14:00:31,937 - jax._src.xla_bridge - INFO - Unable to initialize backend 'cuda': \n",
      "2025-07-03 14:00:31,937 - jax._src.xla_bridge - INFO - Unable to initialize backend 'rocm': module 'jaxlib.xla_extension' has no attribute 'GpuAllocatorConfig'\n",
      "2025-07-03 14:00:31,937 - jax._src.xla_bridge - INFO - Unable to initialize backend 'tpu': INTERNAL: Failed to open libtpu.so: libtpu.so: cannot open shared object file: No such file or directory\n",
      "2025-07-03 14:00:31,937 - jax._src.xla_bridge - WARNING - An NVIDIA GPU may be present on this machine, but a CUDA-enabled jaxlib is not installed. Falling back to cpu.\n",
      "2025-07-03 14:00:31,984 - src.training.trainer - INFO - > Setting up directories...\n"
     ]
    },
    {
     "name": "stderr",
     "output_type": "stream",
     "text": [
      "Sampling: 100%|██████████| 36000/36000 [00:44<00:00, 814.85it/s]\n"
     ]
    },
    {
     "name": "stdout",
     "output_type": "stream",
     "text": [
      "==================================================\n",
      "Running training for config: experiments/csgld/bike13/1x8_constant_4000+500_seed44.yaml\n",
      "2025-07-03 14:01:38,857 - __main__ - INFO - Loaded 1 Experiment(s)\n",
      "2025-07-03 14:01:39,513 - datasets - INFO - PyTorch version 2.2.2+cpu available.\n",
      "2025-07-03 14:01:39,514 - datasets - INFO - JAX version 0.4.28 available.\n",
      "2025-07-03 14:01:39,978 - __main__ - INFO - > Running experiment: bike13/1x8_constant_4000+500_seed44\n",
      "2025-07-03 14:01:39,988 - jax._src.xla_bridge - INFO - Unable to initialize backend 'cuda': \n",
      "2025-07-03 14:01:39,988 - jax._src.xla_bridge - INFO - Unable to initialize backend 'rocm': module 'jaxlib.xla_extension' has no attribute 'GpuAllocatorConfig'\n",
      "2025-07-03 14:01:39,988 - jax._src.xla_bridge - INFO - Unable to initialize backend 'tpu': INTERNAL: Failed to open libtpu.so: libtpu.so: cannot open shared object file: No such file or directory\n",
      "2025-07-03 14:01:39,988 - jax._src.xla_bridge - WARNING - An NVIDIA GPU may be present on this machine, but a CUDA-enabled jaxlib is not installed. Falling back to cpu.\n",
      "2025-07-03 14:01:40,035 - src.training.trainer - INFO - > Setting up directories...\n"
     ]
    },
    {
     "name": "stderr",
     "output_type": "stream",
     "text": [
      "Sampling: 100%|██████████| 36000/36000 [00:43<00:00, 820.31it/s]\n"
     ]
    },
    {
     "name": "stdout",
     "output_type": "stream",
     "text": [
      "==================================================\n",
      "Running training for config: experiments/csgld/bike13/1x8_constant_4000+500_seed223.yaml\n",
      "2025-07-03 14:02:44,629 - __main__ - INFO - Loaded 1 Experiment(s)\n",
      "2025-07-03 14:02:45,169 - datasets - INFO - PyTorch version 2.2.2+cpu available.\n",
      "2025-07-03 14:02:45,170 - datasets - INFO - JAX version 0.4.28 available.\n",
      "2025-07-03 14:02:45,556 - __main__ - INFO - > Running experiment: bike13/1x8_constant_4000+500_seed223\n",
      "2025-07-03 14:02:45,565 - jax._src.xla_bridge - INFO - Unable to initialize backend 'cuda': \n",
      "2025-07-03 14:02:45,565 - jax._src.xla_bridge - INFO - Unable to initialize backend 'rocm': module 'jaxlib.xla_extension' has no attribute 'GpuAllocatorConfig'\n",
      "2025-07-03 14:02:45,565 - jax._src.xla_bridge - INFO - Unable to initialize backend 'tpu': INTERNAL: Failed to open libtpu.so: libtpu.so: cannot open shared object file: No such file or directory\n",
      "2025-07-03 14:02:45,566 - jax._src.xla_bridge - WARNING - An NVIDIA GPU may be present on this machine, but a CUDA-enabled jaxlib is not installed. Falling back to cpu.\n",
      "2025-07-03 14:02:45,609 - src.training.trainer - INFO - > Setting up directories...\n"
     ]
    },
    {
     "name": "stderr",
     "output_type": "stream",
     "text": [
      "Sampling: 100%|██████████| 36000/36000 [00:44<00:00, 808.49it/s]\n"
     ]
    },
    {
     "name": "stdout",
     "output_type": "stream",
     "text": [
      "==================================================\n",
      "Running training for config: experiments/csgld/bike13/1x8_constant_4000+500_seed478.yaml\n",
      "2025-07-03 14:03:51,408 - __main__ - INFO - Loaded 1 Experiment(s)\n",
      "2025-07-03 14:03:52,005 - datasets - INFO - PyTorch version 2.2.2+cpu available.\n",
      "2025-07-03 14:03:52,006 - datasets - INFO - JAX version 0.4.28 available.\n",
      "2025-07-03 14:03:52,455 - __main__ - INFO - > Running experiment: bike13/1x8_constant_4000+500_seed478\n",
      "2025-07-03 14:03:52,465 - jax._src.xla_bridge - INFO - Unable to initialize backend 'cuda': \n",
      "2025-07-03 14:03:52,465 - jax._src.xla_bridge - INFO - Unable to initialize backend 'rocm': module 'jaxlib.xla_extension' has no attribute 'GpuAllocatorConfig'\n",
      "2025-07-03 14:03:52,465 - jax._src.xla_bridge - INFO - Unable to initialize backend 'tpu': INTERNAL: Failed to open libtpu.so: libtpu.so: cannot open shared object file: No such file or directory\n",
      "2025-07-03 14:03:52,466 - jax._src.xla_bridge - WARNING - An NVIDIA GPU may be present on this machine, but a CUDA-enabled jaxlib is not installed. Falling back to cpu.\n",
      "2025-07-03 14:03:52,516 - src.training.trainer - INFO - > Setting up directories...\n"
     ]
    },
    {
     "name": "stderr",
     "output_type": "stream",
     "text": [
      "Sampling: 100%|██████████| 36000/36000 [00:46<00:00, 776.84it/s]\n"
     ]
    },
    {
     "name": "stdout",
     "output_type": "stream",
     "text": [
      "==================================================\n",
      "Running training for config: experiments/csgld/bike13/1x8_constant_4000+500_seed1455.yaml\n",
      "2025-07-03 14:04:59,833 - __main__ - INFO - Loaded 1 Experiment(s)\n",
      "2025-07-03 14:05:00,369 - datasets - INFO - PyTorch version 2.2.2+cpu available.\n",
      "2025-07-03 14:05:00,370 - datasets - INFO - JAX version 0.4.28 available.\n",
      "2025-07-03 14:05:00,743 - __main__ - INFO - > Running experiment: bike13/1x8_constant_4000+500_seed1455\n",
      "2025-07-03 14:05:00,753 - jax._src.xla_bridge - INFO - Unable to initialize backend 'cuda': \n",
      "2025-07-03 14:05:00,753 - jax._src.xla_bridge - INFO - Unable to initialize backend 'rocm': module 'jaxlib.xla_extension' has no attribute 'GpuAllocatorConfig'\n",
      "2025-07-03 14:05:00,753 - jax._src.xla_bridge - INFO - Unable to initialize backend 'tpu': INTERNAL: Failed to open libtpu.so: libtpu.so: cannot open shared object file: No such file or directory\n",
      "2025-07-03 14:05:00,753 - jax._src.xla_bridge - WARNING - An NVIDIA GPU may be present on this machine, but a CUDA-enabled jaxlib is not installed. Falling back to cpu.\n",
      "2025-07-03 14:05:00,797 - src.training.trainer - INFO - > Setting up directories...\n"
     ]
    },
    {
     "name": "stderr",
     "output_type": "stream",
     "text": [
      "Sampling: 100%|██████████| 36000/36000 [00:42<00:00, 839.92it/s]\n"
     ]
    },
    {
     "name": "stdout",
     "output_type": "stream",
     "text": [
      "==================================================\n",
      "Running training for config: experiments/csgld/bike13/1x8_constant_4000+500_seed1646.yaml\n",
      "2025-07-03 14:06:05,026 - __main__ - INFO - Loaded 1 Experiment(s)\n",
      "2025-07-03 14:06:05,617 - datasets - INFO - PyTorch version 2.2.2+cpu available.\n",
      "2025-07-03 14:06:05,618 - datasets - INFO - JAX version 0.4.28 available.\n",
      "2025-07-03 14:06:05,997 - __main__ - INFO - > Running experiment: bike13/1x8_constant_4000+500_seed1646\n",
      "2025-07-03 14:06:06,006 - jax._src.xla_bridge - INFO - Unable to initialize backend 'cuda': \n",
      "2025-07-03 14:06:06,006 - jax._src.xla_bridge - INFO - Unable to initialize backend 'rocm': module 'jaxlib.xla_extension' has no attribute 'GpuAllocatorConfig'\n",
      "2025-07-03 14:06:06,007 - jax._src.xla_bridge - INFO - Unable to initialize backend 'tpu': INTERNAL: Failed to open libtpu.so: libtpu.so: cannot open shared object file: No such file or directory\n",
      "2025-07-03 14:06:06,007 - jax._src.xla_bridge - WARNING - An NVIDIA GPU may be present on this machine, but a CUDA-enabled jaxlib is not installed. Falling back to cpu.\n",
      "2025-07-03 14:06:06,052 - src.training.trainer - INFO - > Setting up directories...\n"
     ]
    },
    {
     "name": "stderr",
     "output_type": "stream",
     "text": [
      "Sampling: 100%|██████████| 36000/36000 [00:44<00:00, 802.46it/s]\n"
     ]
    },
    {
     "name": "stdout",
     "output_type": "stream",
     "text": [
      "==================================================\n",
      "Running training for config: experiments/csgld/bike13/1x8_constant_4000+500_seed1842.yaml\n",
      "2025-07-03 14:07:12,627 - __main__ - INFO - Loaded 1 Experiment(s)\n",
      "2025-07-03 14:07:13,195 - datasets - INFO - PyTorch version 2.2.2+cpu available.\n",
      "2025-07-03 14:07:13,195 - datasets - INFO - JAX version 0.4.28 available.\n",
      "2025-07-03 14:07:13,591 - __main__ - INFO - > Running experiment: bike13/1x8_constant_4000+500_seed1842\n",
      "2025-07-03 14:07:13,601 - jax._src.xla_bridge - INFO - Unable to initialize backend 'cuda': \n",
      "2025-07-03 14:07:13,601 - jax._src.xla_bridge - INFO - Unable to initialize backend 'rocm': module 'jaxlib.xla_extension' has no attribute 'GpuAllocatorConfig'\n",
      "2025-07-03 14:07:13,601 - jax._src.xla_bridge - INFO - Unable to initialize backend 'tpu': INTERNAL: Failed to open libtpu.so: libtpu.so: cannot open shared object file: No such file or directory\n",
      "2025-07-03 14:07:13,602 - jax._src.xla_bridge - WARNING - An NVIDIA GPU may be present on this machine, but a CUDA-enabled jaxlib is not installed. Falling back to cpu.\n",
      "2025-07-03 14:07:13,652 - src.training.trainer - INFO - > Setting up directories...\n"
     ]
    },
    {
     "name": "stderr",
     "output_type": "stream",
     "text": [
      "Sampling: 100%|██████████| 36000/36000 [00:44<00:00, 815.20it/s]\n"
     ]
    },
    {
     "name": "stdout",
     "output_type": "stream",
     "text": [
      "==================================================\n",
      "Running training for config: experiments/csgld/bike13/1x8_constant_4000+500_seed1975.yaml\n",
      "2025-07-03 14:08:19,565 - __main__ - INFO - Loaded 1 Experiment(s)\n",
      "2025-07-03 14:08:20,232 - datasets - INFO - PyTorch version 2.2.2+cpu available.\n",
      "2025-07-03 14:08:20,232 - datasets - INFO - JAX version 0.4.28 available.\n",
      "2025-07-03 14:08:20,671 - __main__ - INFO - > Running experiment: bike13/1x8_constant_4000+500_seed1975\n",
      "2025-07-03 14:08:20,681 - jax._src.xla_bridge - INFO - Unable to initialize backend 'cuda': \n",
      "2025-07-03 14:08:20,681 - jax._src.xla_bridge - INFO - Unable to initialize backend 'rocm': module 'jaxlib.xla_extension' has no attribute 'GpuAllocatorConfig'\n",
      "2025-07-03 14:08:20,682 - jax._src.xla_bridge - INFO - Unable to initialize backend 'tpu': INTERNAL: Failed to open libtpu.so: libtpu.so: cannot open shared object file: No such file or directory\n",
      "2025-07-03 14:08:20,682 - jax._src.xla_bridge - WARNING - An NVIDIA GPU may be present on this machine, but a CUDA-enabled jaxlib is not installed. Falling back to cpu.\n",
      "2025-07-03 14:08:20,726 - src.training.trainer - INFO - > Setting up directories...\n"
     ]
    },
    {
     "name": "stderr",
     "output_type": "stream",
     "text": [
      "Sampling:  55%|█████▌    | 19959/36000 [00:25<00:19, 841.28it/s]"
     ]
    }
   ],
   "source": [
    "exploration_steps = np.arange(2000, 8001, 1000)\n",
    "# seeds = [476, 1453, 1644, 1806, 1912]\n",
    "sampling_steps = 500\n",
    "for i, n in enumerate(exploration_steps):\n",
    "    for seed in seeds:\n",
    "        exp_name = f'bike13/1x8_constant_{n}+{sampling_steps}_seed{seed+i}'\n",
    "        config_path = get_config_constant_different_length(\n",
    "            exp_name=exp_name,\n",
    "            n_chains=1,\n",
    "            n_cycles=8,\n",
    "            n_steps_per_cycle=int(n+sampling_steps),\n",
    "            n_samples_per_cycle=sampling_steps,\n",
    "            seed=seed+i\n",
    "        )\n",
    "        result_path = Path('results') / exp_name / \"eval_metrics.pkl\"\n",
    "        if result_path.exists():\n",
    "            continue\n",
    "        print(\"=\" * 50)\n",
    "        print(f'Running training for config: {config_path}')\n",
    "        subprocess.run(['python', 'train.py', '-c', str(config_path), '-d', '12'])"
   ]
  },
  {
   "cell_type": "code",
   "execution_count": null,
   "id": "e2e4359f",
   "metadata": {},
   "outputs": [],
   "source": [
    "exploration_steps = np.arange(2000, 8001, 1000)\n",
    "# seeds = [476, 1453, 1644, 1806, 1912]\n",
    "sampling_steps = 500\n",
    "for i, n in enumerate(exploration_steps):\n",
    "    # if n != 5000:\n",
    "    #     continue\n",
    "    for seed in seeds:\n",
    "        exp_name = f'bike10/8x1_constant_{n}+{sampling_steps}_10_seed{seed+i}'\n",
    "        config_path = get_config_constant_different_length(\n",
    "            exp_name=exp_name,\n",
    "            n_chains=12,\n",
    "            n_cycles=1,\n",
    "            n_steps_per_cycle=int(n),\n",
    "            n_samples_per_cycle=sampling_steps,\n",
    "            seed=seed+i\n",
    "        )\n",
    "        result_path = Path('results') / exp_name / \"eval_metrics.pkl\"\n",
    "        if result_path.exists():\n",
    "            continue\n",
    "        print(\"=\" * 50)\n",
    "        print(f'Running training for config: {config_path}')\n",
    "        subprocess.run(['python', 'train.py', '-c', str(config_path), '-d', '12'])"
   ]
  },
  {
   "cell_type": "code",
   "execution_count": null,
   "id": "a4f49e19",
   "metadata": {},
   "outputs": [],
   "source": [
    "get_config_cyclical_different_length = functools.partial(\n",
    "    get_config,\n",
    "    n_thinning=10,\n",
    "    optimizer_name='sgd',\n",
    "    scheduler_name='Cyclical',\n",
    "    step_size_init=0.01,\n",
    "    step_size_sampling=2.0e-6,\n",
    ")"
   ]
  }
 ],
 "metadata": {
  "kernelspec": {
   "display_name": "venv",
   "language": "python",
   "name": "python3"
  },
  "language_info": {
   "codemirror_mode": {
    "name": "ipython",
    "version": 3
   },
   "file_extension": ".py",
   "mimetype": "text/x-python",
   "name": "python",
   "nbconvert_exporter": "python",
   "pygments_lexer": "ipython3",
   "version": "3.12.3"
  }
 },
 "nbformat": 4,
 "nbformat_minor": 5
}
